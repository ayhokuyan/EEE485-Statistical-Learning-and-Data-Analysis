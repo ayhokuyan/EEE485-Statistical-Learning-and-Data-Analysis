{
 "cells": [
  {
   "cell_type": "code",
   "execution_count": 29,
   "metadata": {},
   "outputs": [],
   "source": [
    "import matplotlib.pyplot as plt\n",
    "import numpy as np\n",
    "import h5py\n",
    "import pandas as pd\n",
    "import math"
   ]
  },
  {
   "cell_type": "code",
   "execution_count": 30,
   "metadata": {},
   "outputs": [
    {
     "name": "stdout",
     "output_type": "stream",
     "text": [
      "(190440, 30)\n",
      "[12 12 12 ...  9  9  9]\n"
     ]
    }
   ],
   "source": [
    "features_cont = pd.read_pickle('dataRF_cont.pkl')\n",
    "features_disc = pd.read_pickle('dataRF_disc.pkl')\n",
    "features = pd.read_pickle('dataRF.pkl')\n",
    "labels = np.load('labelsRF.npy', allow_pickle=True)\n",
    "print(features.shape)\n",
    "features.head()\n",
    "print(labels)\n",
    "np.random.seed()"
   ]
  },
  {
   "cell_type": "markdown",
   "metadata": {},
   "source": [
    "In the Random Forest Class, we will have the following parameters:\n",
    "\n",
    "- x = Feature\n",
    "- y = Labels\n",
    "- n_tress = Number of uncorrelated trees\n",
    "- n_features = Number of features to pass to the tree\n",
    "- sample_size = Number of input samples to be randoly selected from the set\n",
    "- depth = The depth of each tree\n",
    "- min_leaf = Minimum number of nodes in a split"
   ]
  },
  {
   "cell_type": "code",
   "execution_count": 31,
   "metadata": {},
   "outputs": [],
   "source": [
    "class Random_Forest():\n",
    "    def __init__(self, x, y, n_trees, n_features, sample_size, max_depth=10, min_leaf=5):\n",
    "        self.x = x\n",
    "        self.y = y\n",
    "        self.n_features = n_features\n",
    "        self.sample_size = sample_size\n",
    "        self.max_depth = max_depth \n",
    "        self.min_leaf = min_leaf\n",
    "        self.trees = [self.plant_tree(i) for i in range(n_trees)]\n",
    "    \n",
    "    def plant_tree(self, tree_num):\n",
    "        #print('Tree Number ' + str(tree_num + 1) + ' is being created.')\n",
    "        indices = np.random.permutation(len(self.y))[:self.sample_size]\n",
    "        f_indices = np.random.permutation(self.x.shape[1])[:self.n_features]\n",
    "        return Decision_Tree(self.x.iloc[indices], self.y[indices], self.n_features, f_indices,\n",
    "                            indices=np.array(range(self.sample_size)),\n",
    "                            max_depth = self.max_depth, min_leaf=self.min_leaf)\n",
    "    \n",
    "    def predict(self, x):\n",
    "        predictor = np.array([t.predict(x) for t in self.trees])\n",
    "        return predictor"
   ]
  },
  {
   "cell_type": "code",
   "execution_count": 32,
   "metadata": {},
   "outputs": [],
   "source": [
    "class Decision_Tree():\n",
    "    def __init__(self, x, y, n_features, f_indices,indices, max_depth=10, min_leaf=5):\n",
    "        self.x = x\n",
    "        self.y = y\n",
    "        self.n_features = n_features\n",
    "        self.f_indices = f_indices\n",
    "        self.indices = indices\n",
    "        self.max_depth = max_depth\n",
    "        self.min_leaf = min_leaf\n",
    "        \n",
    "        self.n_tot, self.f_tot = len(indices), x.shape[1]\n",
    "        \n",
    "        counts = np.bincount(y[indices])\n",
    "        self.value = np.argmax(counts)\n",
    "        self.split_index = None\n",
    "        self.score = 0\n",
    "        self.do_split()\n",
    "        \n",
    "    def do_split(self):\n",
    "        for i in self.f_indices: \n",
    "            self.find_best_split(i)\n",
    "        if self.is_leaf: \n",
    "            return\n",
    "        x = self.split_point\n",
    "        \n",
    "        left = np.nonzero(x<=self.split)[0]\n",
    "        right = np.nonzero(x>self.split)[0]\n",
    "        lf_indices = np.random.permutation(self.x.shape[1])[:self.n_features]\n",
    "        rf_indices = np.random.permutation(self.x.shape[1])[:self.n_features]\n",
    "        self.lhs = Decision_Tree(self.x, self.y, self.n_features, lf_indices,\n",
    "                                self.indices[left], max_depth=self.max_depth-1, min_leaf=self.min_leaf)\n",
    "        self.rhs = Decision_Tree(self.x, self.y, self.n_features, rf_indices,\n",
    "                                self.indices[right], max_depth=self.max_depth-1, min_leaf=self.min_leaf)\n",
    "                \n",
    "    def find_best_split(self, split_index):\n",
    "        \n",
    "        x = self.x.values[self.indices,split_index]\n",
    "        y = self.y[self.indices]\n",
    "        sort_index = np.argsort(x)\n",
    "        sort_x = x[sort_index]\n",
    "        sort_y = y[sort_index]\n",
    "        \n",
    "        right_node = y\n",
    "        left_node = []\n",
    "        left_node = np.asarray(left_node)\n",
    "        \n",
    "        for i in range(0,self.n_tot-self.min_leaf-1):\n",
    "            xi = sort_x[i]\n",
    "            yi = sort_y[i]\n",
    "            #xi, yi = x[i], y[i]\n",
    "            np.append(left_node, right_node[0:1])\n",
    "            right_node = right_node[1:]\n",
    "            if i < self.min_leaf or xi == sort_x[i+1]:\n",
    "                continue\n",
    "                \n",
    "            IG = self.information_gain(y, right_node, left_node)\n",
    "            if IG > self.score:\n",
    "                self.split_index = split_index\n",
    "                self.score = IG\n",
    "                self.split = xi\n",
    "    \n",
    "\n",
    "    def information_gain(self, y, r_node, l_node):\n",
    "        groups = [l_node, r_node]\n",
    "        Number_all = len(y)\n",
    "        IG = self.gini(y)\n",
    "        for group in groups:\n",
    "            IG -= self.gini(group)*len(group)/Number_all\n",
    "        return IG\n",
    "\n",
    "    def gini(self, y):\n",
    "        class_ids = [i for i in range(23)]\n",
    "        Number_group = len(y)\n",
    "        if Number_group == 0:\n",
    "            return 0\n",
    "        \n",
    "        sum_of_classes = 0.\n",
    "        for class_id in class_ids:\n",
    "            p = list(y).count(class_id)/Number_group\n",
    "            sum_of_classes += p**2\n",
    "        return 1. - sum_of_classes\n",
    "    \n",
    "    @property\n",
    "    def split_point(self): \n",
    "        point = self.x.values[self.indices,self.split_index]\n",
    "        return point\n",
    "\n",
    "    @property\n",
    "    def is_leaf(self): \n",
    "        if self.score == 0 or self.max_depth <= 0:\n",
    "            return True\n",
    "        else:\n",
    "            return False\n",
    "    \n",
    "    def predict(self, x):\n",
    "        predictor = np.array([self.predict_single(xi) for xi in x])\n",
    "        return predictor\n",
    "\n",
    "    def predict_single(self, xi):\n",
    "        if self.is_leaf: \n",
    "            return self.value\n",
    "        if xi[self.split_index] <= self.split:\n",
    "            t = self.lhs\n",
    "        else:\n",
    "            t = self.rhs\n",
    "        return t.predict_single(xi)"
   ]
  },
  {
   "cell_type": "code",
   "execution_count": 33,
   "metadata": {},
   "outputs": [],
   "source": [
    "def accuracy(d, y):\n",
    "    t = 0\n",
    "    f = 0\n",
    "    for i in range(len(y)):\n",
    "        counts = np.bincount(d[:,i])\n",
    "        if np.argmax(counts) == y[i]:\n",
    "            t = t + 1\n",
    "        else:\n",
    "            f = f + 1\n",
    "    return (t / (t + f)) * 100"
   ]
  },
  {
   "cell_type": "code",
   "execution_count": 34,
   "metadata": {},
   "outputs": [],
   "source": [
    "def splitter(data,y,perctrain, percv, perctest):\n",
    "    a = (len(data)*perctrain)/100\n",
    "    data_train = data[:int(a)]\n",
    "    label_train = y[:int(a)]\n",
    "    \n",
    "    b = (len(data)*percv)/100\n",
    "    data_val = data[int(a):int(b)+int(a)]\n",
    "    label_val = y[int(a):int(b)+int(a)]\n",
    "    \n",
    "    c = (len(data)*perctest)/100\n",
    "    data_test = data[int(b)+int(a):int(c)+int(b)+int(a)]\n",
    "    label_test = y[int(b)+int(a):int(c)+int(b)+int(a)]\n",
    "    return data_train, label_train, data_val, label_val, data_test, label_test"
   ]
  },
  {
   "cell_type": "code",
   "execution_count": 35,
   "metadata": {},
   "outputs": [
    {
     "name": "stdout",
     "output_type": "stream",
     "text": [
      "(133308, 30)\n",
      "(133308,)\n",
      "(38088, 30)\n",
      "(38088,)\n",
      "(19044, 30)\n",
      "(19044,)\n"
     ]
    }
   ],
   "source": [
    "data_np = np.asarray(features)\n",
    "label_np = np.asarray(labels)\n",
    "shuffle=np.random.permutation(data_np.shape[0])\n",
    "data_np = data_np[shuffle]\n",
    "label_np = label_np[shuffle]\n",
    "\n",
    "train_features, train_labels, val_features, val_labels, test_features, test_labels= splitter(data_np, label_np, 70, 20, 10) \n",
    "print(train_features.shape)\n",
    "print(train_labels.shape)\n",
    "print(val_features.shape)\n",
    "print(val_labels.shape)\n",
    "print(test_features.shape)\n",
    "print(test_labels.shape)"
   ]
  },
  {
   "cell_type": "code",
   "execution_count": 37,
   "metadata": {
    "scrolled": false
   },
   "outputs": [
    {
     "name": "stdout",
     "output_type": "stream",
     "text": [
      "Training Accuracy: 18.60128424400636%\n",
      "Validation Accuracy: 18.65942028985507%\n"
     ]
    }
   ],
   "source": [
    "np.random.seed(1)\n",
    "MyForest = Random_Forest(pd.DataFrame(train_features), train_labels, 40, 5, 80)\n",
    "prediction_train = MyForest.predict(np.asarray(train_features))\n",
    "print('Training Accuracy: ' + str(accuracy(prediction_train, train_labels)) + '%')\n",
    "prediction_val = MyForest.predict(np.asarray(val_features))\n",
    "print('Validation Accuracy: ' + str(accuracy(prediction_val, val_labels)) + '%')"
   ]
  },
  {
   "cell_type": "code",
   "execution_count": 38,
   "metadata": {},
   "outputs": [
    {
     "name": "stdout",
     "output_type": "stream",
     "text": [
      "Training Accuracy: 18.95010051909863%\n",
      "Validation Accuracy: 19.050619617727367%\n"
     ]
    }
   ],
   "source": [
    "np.random.seed(1)\n",
    "MyForest2 = Random_Forest(pd.DataFrame(train_features), train_labels, 80, 5, 80)\n",
    "prediction_train = MyForest2.predict(np.asarray(train_features))\n",
    "print('Training Accuracy: ' + str(accuracy(prediction_train, train_labels)) + '%')\n",
    "prediction_val = MyForest2.predict(np.asarray(val_features))\n",
    "print('Validation Accuracy: ' + str(accuracy(prediction_val, val_labels)) + '%')"
   ]
  },
  {
   "cell_type": "code",
   "execution_count": 39,
   "metadata": {},
   "outputs": [
    {
     "name": "stdout",
     "output_type": "stream",
     "text": [
      "Training Accuracy: 18.963603084586072%\n",
      "Validation Accuracy: 19.163516068052928%\n"
     ]
    }
   ],
   "source": [
    "np.random.seed(1)\n",
    "MyForest3 = Random_Forest(pd.DataFrame(train_features), train_labels, 40, 5, 120)\n",
    "prediction_train = MyForest3.predict(np.asarray(train_features))\n",
    "print('Training Accuracy: ' + str(accuracy(prediction_train, train_labels)) + '%')\n",
    "prediction_val = MyForest3.predict(np.asarray(val_features))\n",
    "print('Validation Accuracy: ' + str(accuracy(prediction_val, val_labels)) + '%')"
   ]
  },
  {
   "cell_type": "code",
   "execution_count": 40,
   "metadata": {},
   "outputs": [
    {
     "name": "stdout",
     "output_type": "stream",
     "text": [
      "Training Accuracy: 20.730188735859816%\n",
      "Validation Accuracy: 20.964608275572356%\n"
     ]
    }
   ],
   "source": [
    "np.random.seed(1)\n",
    "MyForest4 = Random_Forest(pd.DataFrame(train_features), train_labels, 80, 5, 120)\n",
    "prediction_train = MyForest4.predict(np.asarray(train_features))\n",
    "print('Training Accuracy: ' + str(accuracy(prediction_train, train_labels)) + '%')\n",
    "prediction_val = MyForest4.predict(np.asarray(val_features))\n",
    "print('Validation Accuracy: ' + str(accuracy(prediction_val, val_labels)) + '%')"
   ]
  },
  {
   "cell_type": "code",
   "execution_count": 41,
   "metadata": {},
   "outputs": [
    {
     "name": "stdout",
     "output_type": "stream",
     "text": [
      "Training Accuracy: 18.372490773246916%\n",
      "Validation Accuracy: 18.630539802562488%\n"
     ]
    }
   ],
   "source": [
    "np.random.seed(1)\n",
    "MyForest5 = Random_Forest(pd.DataFrame(train_features), train_labels, 40, 5, 40)\n",
    "prediction_train = MyForest5.predict(np.asarray(train_features))\n",
    "print('Training Accuracy: ' + str(accuracy(prediction_train, train_labels)) + '%')\n",
    "prediction_val = MyForest5.predict(np.asarray(val_features))\n",
    "print('Validation Accuracy: ' + str(accuracy(prediction_val, val_labels)) + '%')"
   ]
  },
  {
   "cell_type": "code",
   "execution_count": 42,
   "metadata": {},
   "outputs": [
    {
     "name": "stdout",
     "output_type": "stream",
     "text": [
      "Training Accuracy: 17.76562546883908%\n",
      "Validation Accuracy: 18.268220961982777%\n"
     ]
    }
   ],
   "source": [
    "np.random.seed(1)\n",
    "MyForest6 = Random_Forest(pd.DataFrame(train_features), train_labels, 80, 5, 40)\n",
    "prediction_train = MyForest6.predict(np.asarray(train_features))\n",
    "print('Training Accuracy: ' + str(accuracy(prediction_train, train_labels)) + '%')\n",
    "prediction_val = MyForest6.predict(np.asarray(val_features))\n",
    "print('Validation Accuracy: ' + str(accuracy(prediction_val, val_labels)) + '%')"
   ]
  },
  {
   "cell_type": "code",
   "execution_count": 43,
   "metadata": {},
   "outputs": [
    {
     "name": "stdout",
     "output_type": "stream",
     "text": [
      "Training Accuracy: 19.86902511477181%\n",
      "Validation Accuracy: 20.271476580550303%\n"
     ]
    }
   ],
   "source": [
    "np.random.seed(1)\n",
    "MyForest7 = Random_Forest(pd.DataFrame(train_features), train_labels, 80, 3, 120)\n",
    "prediction_train = MyForest7.predict(np.asarray(train_features))\n",
    "print('Training Accuracy: ' + str(accuracy(prediction_train, train_labels)) + '%')\n",
    "prediction_val = MyForest7.predict(np.asarray(val_features))\n",
    "print('Validation Accuracy: ' + str(accuracy(prediction_val, val_labels)) + '%')"
   ]
  },
  {
   "cell_type": "code",
   "execution_count": 44,
   "metadata": {},
   "outputs": [
    {
     "name": "stdout",
     "output_type": "stream",
     "text": [
      "Training Accuracy: 20.261349656434724%\n",
      "Validation Accuracy: 20.318735559756355%\n"
     ]
    }
   ],
   "source": [
    "np.random.seed(1)\n",
    "MyForest8 = Random_Forest(pd.DataFrame(train_features), train_labels, 80, 8, 120)\n",
    "prediction_train = MyForest8.predict(np.asarray(train_features))\n",
    "print('Training Accuracy: ' + str(accuracy(prediction_train, train_labels)) + '%')\n",
    "prediction_val = MyForest8.predict(np.asarray(val_features))\n",
    "print('Validation Accuracy: ' + str(accuracy(prediction_val, val_labels)) + '%')"
   ]
  },
  {
   "cell_type": "code",
   "execution_count": 45,
   "metadata": {},
   "outputs": [
    {
     "name": "stdout",
     "output_type": "stream",
     "text": [
      "Training Accuracy: 19.358178053830226%\n",
      "Validation Accuracy: 19.27378701953371%\n"
     ]
    }
   ],
   "source": [
    "np.random.seed(1)\n",
    "MyForest9 = Random_Forest(pd.DataFrame(train_features), train_labels, 80, 5, 120, max_depth=20, min_leaf=2)\n",
    "prediction_train = MyForest9.predict(np.asarray(train_features))\n",
    "print('Training Accuracy: ' + str(accuracy(prediction_train, train_labels)) + '%')\n",
    "prediction_val = MyForest9.predict(np.asarray(val_features))\n",
    "print('Validation Accuracy: ' + str(accuracy(prediction_val, val_labels)) + '%')"
   ]
  },
  {
   "cell_type": "code",
   "execution_count": 46,
   "metadata": {},
   "outputs": [
    {
     "name": "stdout",
     "output_type": "stream",
     "text": [
      "Training Accuracy: 13.479311069103131%\n",
      "Validation Accuracy: 13.58958202058391%\n"
     ]
    }
   ],
   "source": [
    "np.random.seed(1)\n",
    "MyForest10 = Random_Forest(pd.DataFrame(train_features), train_labels, 80, 5, 120, max_depth=5, min_leaf=2)\n",
    "prediction_train = MyForest10.predict(np.asarray(train_features))\n",
    "print('Training Accuracy: ' + str(accuracy(prediction_train, train_labels)) + '%')\n",
    "prediction_val = MyForest10.predict(np.asarray(val_features))\n",
    "print('Validation Accuracy: ' + str(accuracy(prediction_val, val_labels)) + '%')"
   ]
  },
  {
   "cell_type": "code",
   "execution_count": 47,
   "metadata": {},
   "outputs": [
    {
     "name": "stdout",
     "output_type": "stream",
     "text": [
      "Training Accuracy: 20.478890989287965%\n",
      "Validation Accuracy: 20.943604284814114%\n"
     ]
    }
   ],
   "source": [
    "np.random.seed(1)\n",
    "MyForest11 = Random_Forest(pd.DataFrame(train_features), train_labels, 80, 5, 120, max_depth=20, min_leaf=10)\n",
    "prediction_train = MyForest11.predict(np.asarray(train_features))\n",
    "print('Training Accuracy: ' + str(accuracy(prediction_train, train_labels)) + '%')\n",
    "prediction_val = MyForest11.predict(np.asarray(val_features))\n",
    "print('Validation Accuracy: ' + str(accuracy(prediction_val, val_labels)) + '%')"
   ]
  },
  {
   "cell_type": "code",
   "execution_count": 48,
   "metadata": {},
   "outputs": [
    {
     "name": "stdout",
     "output_type": "stream",
     "text": [
      "Training Accuracy: 19.2043988357788%\n",
      "Validation Accuracy: 19.457571938668348%\n"
     ]
    }
   ],
   "source": [
    "np.random.seed(1)\n",
    "MyForest12 = Random_Forest(pd.DataFrame(train_features), train_labels, 80, 5, 120, max_depth=5, min_leaf=10)\n",
    "prediction_train = MyForest12.predict(np.asarray(train_features))\n",
    "print('Training Accuracy: ' + str(accuracy(prediction_train, train_labels)) + '%')\n",
    "prediction_val = MyForest12.predict(np.asarray(val_features))\n",
    "print('Validation Accuracy: ' + str(accuracy(prediction_val, val_labels)) + '%')"
   ]
  },
  {
   "cell_type": "code",
   "execution_count": 49,
   "metadata": {},
   "outputs": [
    {
     "name": "stdout",
     "output_type": "stream",
     "text": [
      "Training Accuracy: 15.323161400666127%\n",
      "Validation Accuracy: 15.422180214240704%\n"
     ]
    }
   ],
   "source": [
    "np.random.seed(1)\n",
    "MyForest13 = Random_Forest(pd.DataFrame(train_features), train_labels, 80, 5, 120, max_depth=10, min_leaf=2)\n",
    "prediction_train = MyForest13.predict(np.asarray(train_features))\n",
    "print('Training Accuracy: ' + str(accuracy(prediction_train, train_labels)) + '%')\n",
    "prediction_val = MyForest13.predict(np.asarray(val_features))\n",
    "print('Validation Accuracy: ' + str(accuracy(prediction_val, val_labels)) + '%')"
   ]
  },
  {
   "cell_type": "code",
   "execution_count": 50,
   "metadata": {},
   "outputs": [
    {
     "name": "stdout",
     "output_type": "stream",
     "text": [
      "Training Accuracy: 20.478890989287965%\n",
      "Validation Accuracy: 20.943604284814114%\n"
     ]
    }
   ],
   "source": [
    "np.random.seed(1)\n",
    "MyForest14 = Random_Forest(pd.DataFrame(train_features), train_labels, 80, 5, 120, max_depth=10, min_leaf=10)\n",
    "prediction_train = MyForest14.predict(np.asarray(train_features))\n",
    "print('Training Accuracy: ' + str(accuracy(prediction_train, train_labels)) + '%')\n",
    "prediction_val = MyForest14.predict(np.asarray(val_features))\n",
    "print('Validation Accuracy: ' + str(accuracy(prediction_val, val_labels)) + '%')"
   ]
  },
  {
   "cell_type": "code",
   "execution_count": 51,
   "metadata": {},
   "outputs": [
    {
     "name": "stdout",
     "output_type": "stream",
     "text": [
      "(171396, 30)\n",
      "(171396,)\n"
     ]
    }
   ],
   "source": [
    "final_features = np.concatenate((train_features, val_features))\n",
    "final_labels = np.concatenate((train_labels, val_labels))\n",
    "print(final_features.shape)\n",
    "print(final_labels.shape)"
   ]
  },
  {
   "cell_type": "code",
   "execution_count": 52,
   "metadata": {},
   "outputs": [],
   "source": [
    "import time"
   ]
  },
  {
   "cell_type": "code",
   "execution_count": 55,
   "metadata": {},
   "outputs": [
    {
     "name": "stdout",
     "output_type": "stream",
     "text": [
      "Testing Accuracy: 19.197647553035075%\n",
      "Execution time: 107.831716299057\n"
     ]
    }
   ],
   "source": [
    "start = time.time()\n",
    "np.random.seed(1)\n",
    "MyForest_last = Random_Forest(pd.DataFrame(final_features), final_labels, 80, 5, 120)\n",
    "prediction_test = MyForest_last.predict(np.asarray(test_features))\n",
    "print('Testing Accuracy: ' + str(accuracy(prediction_test, test_labels)) + '%')\n",
    "elapsed_time = time.time() - start\n",
    "print('Execution time: ' + str(elapsed_time))"
   ]
  },
  {
   "cell_type": "code",
   "execution_count": null,
   "metadata": {},
   "outputs": [],
   "source": []
  }
 ],
 "metadata": {
  "kernelspec": {
   "display_name": "Python 3",
   "language": "python",
   "name": "python3"
  },
  "language_info": {
   "codemirror_mode": {
    "name": "ipython",
    "version": 3
   },
   "file_extension": ".py",
   "mimetype": "text/x-python",
   "name": "python",
   "nbconvert_exporter": "python",
   "pygments_lexer": "ipython3",
   "version": "3.7.2"
  }
 },
 "nbformat": 4,
 "nbformat_minor": 2
}
